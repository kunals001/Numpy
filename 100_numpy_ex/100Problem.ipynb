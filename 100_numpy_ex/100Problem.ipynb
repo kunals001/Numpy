{
 "cells": [
  {
   "cell_type": "markdown",
   "id": "0a61f668",
   "metadata": {},
   "source": [
    "1. Import the numpy package under the name np."
   ]
  },
  {
   "cell_type": "code",
   "execution_count": 1,
   "id": "c2cfe11e",
   "metadata": {},
   "outputs": [],
   "source": [
    "import numpy as np"
   ]
  }
 ],
 "metadata": {
  "kernelspec": {
   "display_name": "myenv",
   "language": "python",
   "name": "python3"
  },
  "language_info": {
   "codemirror_mode": {
    "name": "ipython",
    "version": 3
   },
   "file_extension": ".py",
   "mimetype": "text/x-python",
   "name": "python",
   "nbconvert_exporter": "python",
   "pygments_lexer": "ipython3",
   "version": "3.12.3"
  }
 },
 "nbformat": 4,
 "nbformat_minor": 5
}
