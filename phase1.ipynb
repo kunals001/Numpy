{
 "cells": [
  {
   "cell_type": "markdown",
   "id": "abb0d8d7",
   "metadata": {},
   "source": [
    "## Learn about numpy"
   ]
  },
  {
   "cell_type": "markdown",
   "id": "e7a7d3f9",
   "metadata": {},
   "source": [
    "Creating array using list"
   ]
  },
  {
   "cell_type": "code",
   "execution_count": null,
   "id": "86038038",
   "metadata": {},
   "outputs": [],
   "source": [
    "import numpy as np\n",
    "\n",
    "arr_1d = np.array([1,2,3])\n",
    "arr_2d = np.array([[1,2,3],[4,5,6]])\n",
    "arr_3d = np.array([[[1,2,3],[4,5,6]],[[1,2,3],[4,5,6]]])\n",
    "\n",
    "print(arr_1d)\n",
    "print(arr_2d)\n",
    "print(arr_3d)\n",
    "\n"
   ]
  },
  {
   "cell_type": "markdown",
   "id": "68561d83",
   "metadata": {},
   "source": [
    "Some Multiplication"
   ]
  },
  {
   "cell_type": "code",
   "execution_count": null,
   "id": "feb0c716",
   "metadata": {},
   "outputs": [],
   "source": [
    "import numpy as np\n",
    "\n",
    "py_list = [1,2,3]\n",
    "\n",
    "print(\"python list multiply \", py_list * 3)\n",
    "\n",
    "np_arr = np.array([1,2,3])\n",
    "\n",
    "print(\"numpy array multiply \", np_arr * 3)"
   ]
  },
  {
   "cell_type": "markdown",
   "id": "7d4ad317",
   "metadata": {},
   "source": [
    "List and array"
   ]
  },
  {
   "cell_type": "code",
   "execution_count": null,
   "id": "62a95071",
   "metadata": {},
   "outputs": [],
   "source": [
    "import numpy as np\n",
    "import time\n",
    "\n",
    "start = time.time()\n",
    "\n",
    "py_list = [i*3 for i in range(1000000)]\n",
    "print(\"\\nList time: \",time.time() - start)\n",
    "\n",
    "start = time.time()\n",
    "np_arr = np.array([i*2 for i in range(1000000)])\n",
    "print(\"\\nArray time: \",time.time() - start)"
   ]
  },
  {
   "cell_type": "markdown",
   "id": "f4cadb27",
   "metadata": {},
   "source": [
    "creating arrays"
   ]
  },
  {
   "cell_type": "code",
   "execution_count": null,
   "id": "e21556a7",
   "metadata": {},
   "outputs": [],
   "source": [
    "import numpy as np\n",
    "\n",
    "# Zeros array\n",
    "\n",
    "zeros = np.zeros((2,4))\n",
    "print(\"zeros array : \\n\" , zeros)\n",
    "\n",
    "# ones array\n",
    "\n",
    "ones = np.ones((2,4))\n",
    "print(\"ones array : \\n\" , ones)\n",
    "\n",
    "# Special constant array\n",
    "\n",
    "full = np.full((2,4), 15)\n",
    "print(\"full array : \\n\" , full)\n",
    "\n",
    "# Random array random have many methods\n",
    "\n",
    "random = np.random.random((2,4))\n",
    "print(\"random array : \\n\" , random *3)\n",
    "\n",
    "# sequence array\n",
    "\n",
    "seq = np.arange(0,100,5)\n",
    "print(\"sequence array : \\n\" , seq)"
   ]
  },
  {
   "cell_type": "markdown",
   "id": "6a8181ab",
   "metadata": {},
   "source": [
    "Vector , Matrix and Tensor"
   ]
  },
  {
   "cell_type": "code",
   "execution_count": null,
   "id": "d8de7b06",
   "metadata": {},
   "outputs": [],
   "source": [
    "import numpy as np\n",
    "\n",
    "vector = np.array([1,2,3,4,5,6,7,8])\n",
    "print(vector) # 1D array\n",
    "\n",
    "matrix = np.array([[1,2,3],[1,2,3]])\n",
    "print(matrix) # 2D array\n",
    "\n",
    "tensor = np.array([[[1,2,3],[1,2,3]], [[1,2,3], [1,2,3]]])\n",
    "print(tensor) # 3D and higher array"
   ]
  },
  {
   "cell_type": "markdown",
   "id": "4a4537fd",
   "metadata": {},
   "source": [
    "Array Properties"
   ]
  },
  {
   "cell_type": "code",
   "execution_count": null,
   "id": "a1cda725",
   "metadata": {},
   "outputs": [],
   "source": [
    "import numpy as np\n",
    "\n",
    "matrix = np.array([[1,2,3],[1,2,3]])\n",
    "\n",
    "print(\"Shape: \", matrix.shape)\n",
    "print(\"Size: \", matrix.size)\n",
    "print(\"Dimension: \", matrix.ndim)\n",
    "print(\"Data type: \", matrix.dtype)\n",
    "print(\"Item size: \", matrix.itemsize)\n",
    "print(\"Total bytes: \", matrix.nbytes)"
   ]
  },
  {
   "cell_type": "markdown",
   "id": "0d9eddff",
   "metadata": {},
   "source": [
    "Array Resizing"
   ]
  },
  {
   "cell_type": "code",
   "execution_count": null,
   "id": "bda0552e",
   "metadata": {},
   "outputs": [],
   "source": [
    "import numpy as np\n",
    "\n",
    "matrix = np.array([[1,2,3],[1,2,3]])\n",
    "\n",
    "print(\"Transpose: \\n\", matrix.T) # Transpose of matrix \n",
    "print(\"Reshape: \\n\", matrix.reshape(3,2)) # Reshape of matrix \n",
    "print(\"Flatten: \\n\", matrix.flatten()) # Flatten of matrix copy of matrix\n",
    "print(\"Ravel: \\n\", matrix.ravel()) # Ravel of matrix "
   ]
  }
 ],
 "metadata": {
  "kernelspec": {
   "display_name": "myenv",
   "language": "python",
   "name": "python3"
  },
  "language_info": {
   "codemirror_mode": {
    "name": "ipython",
    "version": 3
   },
   "file_extension": ".py",
   "mimetype": "text/x-python",
   "name": "python",
   "nbconvert_exporter": "python",
   "pygments_lexer": "ipython3",
   "version": "3.12.3"
  }
 },
 "nbformat": 4,
 "nbformat_minor": 5
}
