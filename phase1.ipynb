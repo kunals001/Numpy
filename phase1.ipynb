{
 "cells": [
  {
   "cell_type": "markdown",
   "id": "abb0d8d7",
   "metadata": {},
   "source": [
    "## Learn about numpy"
   ]
  },
  {
   "cell_type": "markdown",
   "id": "e7a7d3f9",
   "metadata": {},
   "source": [
    "Creating array using list"
   ]
  },
  {
   "cell_type": "code",
   "execution_count": null,
   "id": "86038038",
   "metadata": {},
   "outputs": [
    {
     "name": "stdout",
     "output_type": "stream",
     "text": [
      "[1 2 3]\n",
      "[[1 2 3]\n",
      " [4 5 6]]\n",
      "[[[1 2 3]\n",
      "  [4 5 6]]\n",
      "\n",
      " [[1 2 3]\n",
      "  [4 5 6]]]\n"
     ]
    }
   ],
   "source": [
    "import numpy as np\n",
    "\n",
    "arr_1d = np.array([1,2,3])\n",
    "arr_2d = np.array([[1,2,3],[4,5,6]])\n",
    "arr_3d = np.array([[[1,2,3],[4,5,6]],[[1,2,3],[4,5,6]]])\n",
    "\n",
    "print(arr_1d)\n",
    "print(arr_2d)\n",
    "print(arr_3d)\n",
    "\n"
   ]
  },
  {
   "cell_type": "markdown",
   "id": "68561d83",
   "metadata": {},
   "source": [
    "Some Multiplication"
   ]
  },
  {
   "cell_type": "code",
   "execution_count": 1,
   "id": "feb0c716",
   "metadata": {},
   "outputs": [
    {
     "name": "stdout",
     "output_type": "stream",
     "text": [
      "python list multiply  [1, 2, 3, 1, 2, 3, 1, 2, 3]\n",
      "numpy array multiply  [3 6 9]\n"
     ]
    }
   ],
   "source": [
    "import numpy as np\n",
    "\n",
    "py_list = [1,2,3]\n",
    "\n",
    "print(\"python list multiply \", py_list * 3)\n",
    "\n",
    "np_arr = np.array([1,2,3])\n",
    "\n",
    "print(\"numpy array multiply \", np_arr * 3)"
   ]
  },
  {
   "cell_type": "markdown",
   "id": "7d4ad317",
   "metadata": {},
   "source": [
    "List and array"
   ]
  },
  {
   "cell_type": "code",
   "execution_count": 1,
   "id": "62a95071",
   "metadata": {},
   "outputs": [
    {
     "name": "stdout",
     "output_type": "stream",
     "text": [
      "\n",
      "List time:  0.03513765335083008\n",
      "\n",
      "Array time:  0.06951713562011719\n"
     ]
    }
   ],
   "source": [
    "import numpy as np\n",
    "import time\n",
    "\n",
    "start = time.time()\n",
    "\n",
    "py_list = [i*3 for i in range(1000000)]\n",
    "print(\"\\nList time: \",time.time() - start)\n",
    "\n",
    "start = time.time()\n",
    "np_arr = np.array([i*2 for i in range(1000000)])\n",
    "print(\"\\nArray time: \",time.time() - start)"
   ]
  },
  {
   "cell_type": "markdown",
   "id": "f4cadb27",
   "metadata": {},
   "source": [
    "creating arrays"
   ]
  },
  {
   "cell_type": "code",
   "execution_count": 21,
   "id": "e21556a7",
   "metadata": {},
   "outputs": [
    {
     "name": "stdout",
     "output_type": "stream",
     "text": [
      "zeros array : \n",
      " [[0. 0. 0. 0.]\n",
      " [0. 0. 0. 0.]]\n",
      "ones array : \n",
      " [[1. 1. 1. 1.]\n",
      " [1. 1. 1. 1.]]\n",
      "full array : \n",
      " [[15 15 15 15]\n",
      " [15 15 15 15]]\n",
      "random array : \n",
      " [[2.04808973 2.94590118 2.27621495 1.37096399]\n",
      " [1.18105404 0.54502673 1.38461199 1.3653666 ]]\n",
      "sequence array : \n",
      " [ 0  5 10 15 20 25 30 35 40 45 50 55 60 65 70 75 80 85 90 95]\n"
     ]
    }
   ],
   "source": [
    "import numpy as np\n",
    "\n",
    "# Zeros array\n",
    "\n",
    "zeros = np.zeros((2,4))\n",
    "print(\"zeros array : \\n\" , zeros)\n",
    "\n",
    "# ones array\n",
    "\n",
    "ones = np.ones((2,4))\n",
    "print(\"ones array : \\n\" , ones)\n",
    "\n",
    "# Special constant array\n",
    "\n",
    "full = np.full((2,4), 15)\n",
    "print(\"full array : \\n\" , full)\n",
    "\n",
    "# Random array random have many methods\n",
    "\n",
    "random = np.random.random((2,4))\n",
    "print(\"random array : \\n\" , random *3)\n",
    "\n",
    "# sequence array\n",
    "\n",
    "seq = np.arange(0,100,5)\n",
    "print(\"sequence array : \\n\" , seq)"
   ]
  },
  {
   "cell_type": "markdown",
   "id": "6a8181ab",
   "metadata": {},
   "source": [
    "Vector , Matrix and Tensor"
   ]
  },
  {
   "cell_type": "code",
   "execution_count": null,
   "id": "d8de7b06",
   "metadata": {},
   "outputs": [
    {
     "name": "stdout",
     "output_type": "stream",
     "text": [
      "[1 2 3 4 5 6 7 8]\n",
      "[[1 2 3]\n",
      " [1 2 3]]\n",
      "[[[1 2 3]\n",
      "  [1 2 3]]\n",
      "\n",
      " [[1 2 3]\n",
      "  [1 2 3]]]\n"
     ]
    }
   ],
   "source": [
    "import numpy as np\n",
    "\n",
    "vector = np.array([1,2,3,4,5,6,7,8])\n",
    "print(vector) # 1D array\n",
    "\n",
    "matrix = np.array([[1,2,3],[1,2,3]])\n",
    "print(matrix) # 2D array\n",
    "\n",
    "tensor = np.array([[[1,2,3],[1,2,3]], [[1,2,3], [1,2,3]]])\n",
    "print(tensor) # 3D and higher array"
   ]
  }
 ],
 "metadata": {
  "kernelspec": {
   "display_name": "myenv",
   "language": "python",
   "name": "python3"
  },
  "language_info": {
   "codemirror_mode": {
    "name": "ipython",
    "version": 3
   },
   "file_extension": ".py",
   "mimetype": "text/x-python",
   "name": "python",
   "nbconvert_exporter": "python",
   "pygments_lexer": "ipython3",
   "version": "3.12.3"
  }
 },
 "nbformat": 4,
 "nbformat_minor": 5
}
