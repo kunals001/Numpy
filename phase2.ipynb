{
 "cells": [
  {
   "cell_type": "markdown",
   "id": "da68b696",
   "metadata": {},
   "source": [
    "Numpy Array Operations"
   ]
  },
  {
   "cell_type": "code",
   "execution_count": 2,
   "id": "4efd0c6f",
   "metadata": {},
   "outputs": [],
   "source": [
    "import numpy as np"
   ]
  },
  {
   "cell_type": "code",
   "execution_count": 3,
   "id": "d5e02d84",
   "metadata": {},
   "outputs": [
    {
     "name": "stdout",
     "output_type": "stream",
     "text": [
      "Slicing : [4 5 6]\n",
      "With Steps : [2 4]\n",
      "Negative Indexing : 8\n"
     ]
    }
   ],
   "source": [
    "# 1D array operations\n",
    "\n",
    "vector = np.array([1,2,3,4,5,6,7,8])\n",
    "print(\"Slicing :\", vector[3:6])\n",
    "print(\"With Steps :\", vector[1:5:2])\n",
    "print(\"Negative Indexing :\", vector[-1])"
   ]
  },
  {
   "cell_type": "markdown",
   "id": "8ece4800",
   "metadata": {},
   "source": [
    "Matrix Operations"
   ]
  },
  {
   "cell_type": "code",
   "execution_count": 4,
   "id": "205633cf",
   "metadata": {},
   "outputs": [
    {
     "name": "stdout",
     "output_type": "stream",
     "text": [
      "Specific element : 3\n",
      "Specific row : [1 2 3]\n",
      "Specific column : [2 2 2]\n",
      "Diagonal elements : [1 2 3]\n"
     ]
    }
   ],
   "source": [
    "matrix = np.array([[1,2,3],[1,2,3],[1,2,3]])\n",
    "\n",
    "print(\"Specific element :\", matrix[1,2])\n",
    "print(\"Specific row :\", matrix[1])\n",
    "print(\"Specific column :\", matrix[:,1])\n",
    "print(\"Diagonal elements :\", matrix.diagonal())"
   ]
  }
 ],
 "metadata": {
  "kernelspec": {
   "display_name": "myenv",
   "language": "python",
   "name": "python3"
  },
  "language_info": {
   "codemirror_mode": {
    "name": "ipython",
    "version": 3
   },
   "file_extension": ".py",
   "mimetype": "text/x-python",
   "name": "python",
   "nbconvert_exporter": "python",
   "pygments_lexer": "ipython3",
   "version": "3.12.3"
  }
 },
 "nbformat": 4,
 "nbformat_minor": 5
}
