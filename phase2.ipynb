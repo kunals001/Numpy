{
 "cells": [
  {
   "cell_type": "markdown",
   "id": "da68b696",
   "metadata": {},
   "source": [
    "Numpy Array Operations"
   ]
  },
  {
   "cell_type": "code",
   "execution_count": 2,
   "id": "4efd0c6f",
   "metadata": {},
   "outputs": [],
   "source": [
    "import numpy as np"
   ]
  },
  {
   "cell_type": "code",
   "execution_count": 3,
   "id": "d5e02d84",
   "metadata": {},
   "outputs": [
    {
     "name": "stdout",
     "output_type": "stream",
     "text": [
      "Slicing : [4 5 6]\n",
      "With Steps : [2 4]\n",
      "Negative Indexing : 8\n"
     ]
    }
   ],
   "source": [
    "# 1D array operations\n",
    "\n",
    "vector = np.array([1,2,3,4,5,6,7,8])\n",
    "print(\"Slicing :\", vector[3:6])\n",
    "print(\"With Steps :\", vector[1:5:2])\n",
    "print(\"Negative Indexing :\", vector[-1])"
   ]
  },
  {
   "cell_type": "markdown",
   "id": "8ece4800",
   "metadata": {},
   "source": [
    "Matrix Operations"
   ]
  },
  {
   "cell_type": "code",
   "execution_count": 4,
   "id": "205633cf",
   "metadata": {},
   "outputs": [
    {
     "name": "stdout",
     "output_type": "stream",
     "text": [
      "Specific element : 3\n",
      "Specific row : [1 2 3]\n",
      "Specific column : [2 2 2]\n",
      "Diagonal elements : [1 2 3]\n"
     ]
    }
   ],
   "source": [
    "matrix = np.array([[1,2,3],[1,2,3],[1,2,3]])\n",
    "\n",
    "print(\"Specific element :\", matrix[1,2])\n",
    "print(\"Specific row :\", matrix[1])\n",
    "print(\"Specific column :\", matrix[:,1])\n",
    "print(\"Diagonal elements :\", matrix.diagonal())"
   ]
  },
  {
   "cell_type": "markdown",
   "id": "57c675e9",
   "metadata": {},
   "source": [
    "Sorting"
   ]
  },
  {
   "cell_type": "code",
   "execution_count": 6,
   "id": "91cf598c",
   "metadata": {},
   "outputs": [
    {
     "name": "stdout",
     "output_type": "stream",
     "text": [
      "Sorted array : [1 1 2 4 5 6 7 8]\n",
      "Descending order : [8 7 6 5 4 2 1 1]\n",
      "Sorted 2D array : [[1 4 2]\n",
      " [1 5 6]\n",
      " [7 8 9]]\n",
      "Descending order 2D array : [[7 8 9]\n",
      " [1 5 6]\n",
      " [1 2 4]]\n"
     ]
    }
   ],
   "source": [
    "unsorted = np.array([1,4,2,1,5,6,7,8])\n",
    "\n",
    "print(\"Sorted array :\", np.sort(unsorted))\n",
    "print(\"Descending order :\", np.sort(unsorted)[::-1])\n",
    "\n",
    "arr_2d_unsorted = np.array([[1,4,2],[1,5,6],[7,8,9]])\n",
    "print(\"Sorted 2D array :\", np.sort(arr_2d_unsorted, axis=0))\n",
    "print(\"Descending order 2D array :\", np.sort(arr_2d_unsorted)[::-1])"
   ]
  },
  {
   "cell_type": "markdown",
   "id": "5b2446e6",
   "metadata": {},
   "source": [
    "Filtering"
   ]
  },
  {
   "cell_type": "code",
   "execution_count": 10,
   "id": "448d93eb",
   "metadata": {},
   "outputs": [
    {
     "name": "stdout",
     "output_type": "stream",
     "text": [
      "Even numbers : [2 4 6 8]\n",
      "Odd numbers : [1 3 5 7]\n"
     ]
    }
   ],
   "source": [
    "arr = np.array([1,2,3,4,5,6,7,8])\n",
    "\n",
    "even_number = arr[arr%2==0]\n",
    "print(\"Even numbers :\", even_number)\n",
    "\n",
    "odd_number = arr[arr%2!=0]\n",
    "print(\"Odd numbers :\", odd_number)"
   ]
  },
  {
   "cell_type": "markdown",
   "id": "b50fbefd",
   "metadata": {},
   "source": [
    "Filter with mask"
   ]
  },
  {
   "cell_type": "code",
   "execution_count": null,
   "id": "8feedb17",
   "metadata": {},
   "outputs": [
    {
     "name": "stdout",
     "output_type": "stream",
     "text": [
      "Filtered array : [ 8  9 10] 9.131431579589844e-05\n"
     ]
    }
   ],
   "source": [
    "import time\n",
    "start = time.time()\n",
    "\n",
    "mask_arr = np.array([1,2,3,4,5,6,7,8,9,10])\n",
    "\n",
    "mask = mask_arr > 7\n",
    "\n",
    "print(\"Filtered array :\", mask_arr[mask])"
   ]
  }
 ],
 "metadata": {
  "kernelspec": {
   "display_name": "myenv",
   "language": "python",
   "name": "python3"
  },
  "language_info": {
   "codemirror_mode": {
    "name": "ipython",
    "version": 3
   },
   "file_extension": ".py",
   "mimetype": "text/x-python",
   "name": "python",
   "nbconvert_exporter": "python",
   "pygments_lexer": "ipython3",
   "version": "3.12.3"
  }
 },
 "nbformat": 4,
 "nbformat_minor": 5
}
