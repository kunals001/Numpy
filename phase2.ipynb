{
 "cells": [
  {
   "cell_type": "markdown",
   "id": "da68b696",
   "metadata": {},
   "source": [
    "Numpy Array Operations"
   ]
  },
  {
   "cell_type": "code",
   "execution_count": 2,
   "id": "4efd0c6f",
   "metadata": {},
   "outputs": [],
   "source": [
    "import numpy as np"
   ]
  },
  {
   "cell_type": "code",
   "execution_count": 2,
   "id": "d5e02d84",
   "metadata": {},
   "outputs": [
    {
     "name": "stdout",
     "output_type": "stream",
     "text": [
      "Slicing : [4 5 6]\n",
      "With Steps : [2 4]\n",
      "Negative Indexing : 8\n"
     ]
    }
   ],
   "source": [
    "# 1D array operations\n",
    "\n",
    "vector = np.array([1,2,3,4,5,6,7,8])\n",
    "print(\"Slicing :\", vector[3:6])\n",
    "print(\"With Steps :\", vector[1:5:2])\n",
    "print(\"Negative Indexing :\", vector[-1])"
   ]
  },
  {
   "cell_type": "markdown",
   "id": "8ece4800",
   "metadata": {},
   "source": [
    "Matrix Operations"
   ]
  },
  {
   "cell_type": "code",
   "execution_count": null,
   "id": "205633cf",
   "metadata": {},
   "outputs": [],
   "source": [
    "matrix = np.array([[1,2,3],[1,2,3],[1,2,3]])\n",
    "\n",
    "print(\"Specific element :\", matrix[1,2])\n",
    "print(\"Specific row :\", matrix[1])\n",
    "print(\"Specific column :\", matrix[:,1])\n",
    "print(\"Diagonal elements :\", matrix.diagonal())"
   ]
  },
  {
   "cell_type": "markdown",
   "id": "57c675e9",
   "metadata": {},
   "source": [
    "Sorting"
   ]
  },
  {
   "cell_type": "code",
   "execution_count": null,
   "id": "91cf598c",
   "metadata": {},
   "outputs": [],
   "source": [
    "unsorted = np.array([1,4,2,1,5,6,7,8])\n",
    "\n",
    "print(\"Sorted array :\", np.sort(unsorted))\n",
    "print(\"Descending order :\", np.sort(unsorted)[::-1])\n",
    "\n",
    "arr_2d_unsorted = np.array([[1,4,2],[1,5,6],[7,8,9]])\n",
    "print(\"Sorted 2D array :\", np.sort(arr_2d_unsorted, axis=0))\n",
    "print(\"Descending order 2D array :\", np.sort(arr_2d_unsorted)[::-1])"
   ]
  },
  {
   "cell_type": "markdown",
   "id": "5b2446e6",
   "metadata": {},
   "source": [
    "Filtering"
   ]
  },
  {
   "cell_type": "code",
   "execution_count": null,
   "id": "448d93eb",
   "metadata": {},
   "outputs": [],
   "source": [
    "arr = np.array([1,2,3,4,5,6,7,8])\n",
    "\n",
    "even_number = arr[arr%2==0]\n",
    "print(\"Even numbers :\", even_number)\n",
    "\n",
    "odd_number = arr[arr%2!=0]\n",
    "print(\"Odd numbers :\", odd_number)"
   ]
  },
  {
   "cell_type": "markdown",
   "id": "b50fbefd",
   "metadata": {},
   "source": [
    "Filter with mask"
   ]
  },
  {
   "cell_type": "code",
   "execution_count": null,
   "id": "8feedb17",
   "metadata": {},
   "outputs": [],
   "source": [
    "import time\n",
    "start = time.time()\n",
    "\n",
    "mask_arr = np.array([1,2,3,4,5,6,7,8,9,10])\n",
    "\n",
    "mask = mask_arr > 7\n",
    "\n",
    "print(\"Filtered array :\", mask_arr[mask])"
   ]
  },
  {
   "cell_type": "markdown",
   "id": "c94ee05b",
   "metadata": {},
   "source": [
    "Fancing indexing vs np.where()"
   ]
  },
  {
   "cell_type": "code",
   "execution_count": 3,
   "id": "0c48a9ad",
   "metadata": {},
   "outputs": [
    {
     "name": "stdout",
     "output_type": "stream",
     "text": [
      "Filtered array : [5 6 7 8]\n",
      "Condition array : [0 0 0 0 1 1 1 1]\n"
     ]
    }
   ],
   "source": [
    "vector = np.array([1,2,3,4,5,6,7,8])\n",
    "\n",
    "where_result = np.where(vector > 4)\n",
    "\n",
    "print(\"Filtered array :\", vector[where_result])\n",
    "\n",
    "condition_array = np.where(vector > 4, 1, 0)\n",
    "\n",
    "print(\"Condition array :\", condition_array)"
   ]
  },
  {
   "cell_type": "markdown",
   "id": "01b87c82",
   "metadata": {},
   "source": [
    "Concatenate array"
   ]
  },
  {
   "cell_type": "code",
   "execution_count": 4,
   "id": "458b576d",
   "metadata": {},
   "outputs": [
    {
     "name": "stdout",
     "output_type": "stream",
     "text": [
      "Combined array : [1 2 3 4 5 6 7 8 1 2 3 4 5]\n"
     ]
    }
   ],
   "source": [
    "arr1 = np.array([1,2,3,4,5,6,7,8])\n",
    "arr2 = np.array([1,2,3,4,5])\n",
    "\n",
    "combined_array = np.concatenate((arr1, arr2))\n",
    "\n",
    "print(\"Combined array :\", combined_array)"
   ]
  },
  {
   "cell_type": "markdown",
   "id": "e656a886",
   "metadata": {},
   "source": [
    "Adding column and row\n"
   ]
  },
  {
   "cell_type": "code",
   "execution_count": 10,
   "id": "8cc57df4",
   "metadata": {},
   "outputs": [
    {
     "name": "stdout",
     "output_type": "stream",
     "text": [
      "With new row : [[1 2]\n",
      " [2 3]\n",
      " [4 5]]\n",
      "With new col : [[1 2 4]\n",
      " [2 3 5]]\n"
     ]
    }
   ],
   "source": [
    "original = np.array([[1,2],[2,3]])\n",
    "new_row = np.array([4,5])\n",
    "\n",
    "with_new_row = np.vstack((original, new_row))\n",
    "\n",
    "print(\"With new row :\", with_new_row)\n",
    "\n",
    "new_col = np.array([[4],[5]])\n",
    "\n",
    "with_new_col = np.hstack((original, new_col))\n",
    "\n",
    "print(\"With new col :\", with_new_col)"
   ]
  },
  {
   "cell_type": "markdown",
   "id": "8030fa55",
   "metadata": {},
   "source": [
    "Delete array"
   ]
  },
  {
   "cell_type": "code",
   "execution_count": 13,
   "id": "375175bd",
   "metadata": {},
   "outputs": [
    {
     "name": "stdout",
     "output_type": "stream",
     "text": [
      "Deleted array : [1 3 8]\n"
     ]
    }
   ],
   "source": [
    "arr_del = np.array([1,2,3,4,5,6,7,8])\n",
    "\n",
    "deleted = np.delete(arr_del, [1,3,4,5,6])\n",
    "\n",
    "print(\"Deleted array :\", deleted)"
   ]
  }
 ],
 "metadata": {
  "kernelspec": {
   "display_name": "myenv",
   "language": "python",
   "name": "python3"
  },
  "language_info": {
   "codemirror_mode": {
    "name": "ipython",
    "version": 3
   },
   "file_extension": ".py",
   "mimetype": "text/x-python",
   "name": "python",
   "nbconvert_exporter": "python",
   "pygments_lexer": "ipython3",
   "version": "3.12.3"
  }
 },
 "nbformat": 4,
 "nbformat_minor": 5
}
