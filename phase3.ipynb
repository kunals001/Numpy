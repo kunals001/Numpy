{
 "cells": [
  {
   "cell_type": "markdown",
   "id": "07c40168",
   "metadata": {},
   "source": [
    "Advanced operations"
   ]
  },
  {
   "cell_type": "code",
   "execution_count": 1,
   "id": "4c96e3ba",
   "metadata": {},
   "outputs": [],
   "source": [
    "import numpy as np"
   ]
  },
  {
   "cell_type": "markdown",
   "id": "0ca80494",
   "metadata": {},
   "source": [
    "Sales example"
   ]
  },
  {
   "cell_type": "code",
   "execution_count": null,
   "id": "88eafc86",
   "metadata": {},
   "outputs": [],
   "source": [
    "sales_data = np.array([\n",
    "    [1,12,23,34,45],\n",
    "    [2,13,24,35,46],\n",
    "    [3,14,25,36,47],\n",
    "    [4,15,26,37,48],\n",
    "    [5,16,27,38,49]\n",
    "])\n",
    "\n"
   ]
  }
 ],
 "metadata": {
  "kernelspec": {
   "display_name": "myenv",
   "language": "python",
   "name": "python3"
  },
  "language_info": {
   "codemirror_mode": {
    "name": "ipython",
    "version": 3
   },
   "file_extension": ".py",
   "mimetype": "text/x-python",
   "name": "python",
   "nbconvert_exporter": "python",
   "pygments_lexer": "ipython3",
   "version": "3.12.3"
  }
 },
 "nbformat": 4,
 "nbformat_minor": 5
}
