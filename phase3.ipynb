{
 "cells": [
  {
   "cell_type": "markdown",
   "id": "07c40168",
   "metadata": {},
   "source": [
    "Advanced operations"
   ]
  },
  {
   "cell_type": "code",
   "execution_count": null,
   "id": "4c96e3ba",
   "metadata": {},
   "outputs": [],
   "source": [
    "import numpy as np"
   ]
  },
  {
   "cell_type": "markdown",
   "id": "0ca80494",
   "metadata": {},
   "source": [
    "Sales example"
   ]
  },
  {
   "cell_type": "code",
   "execution_count": null,
   "id": "88eafc86",
   "metadata": {},
   "outputs": [],
   "source": [
    "sales_data = np.array([\n",
    "    [1,12,23,34,45],\n",
    "    [2,13,24,35,46],\n",
    "    [3,14,25,36,47],\n",
    "    [4,15,26,37,48],\n",
    "    [5,16,27,38,49]\n",
    "])\n",
    "\n",
    "print(\"================  Sales Data  ================\")\n",
    "print(\"\\n Sales Data Shape : \", sales_data.shape)\n",
    "print(\"\\n Sales Data for 1st 3 restaurants : \\n\", sales_data[:3])\n",
    "print(\"\\n Sales Data for 3rd 2 restaurants : \\n\", sales_data[2:4])\n",
    "print(\"\\n Sales Data custom index : \\n\", sales_data[:, 1:3])\n",
    "\n"
   ]
  },
  {
   "cell_type": "markdown",
   "id": "6f46247e",
   "metadata": {},
   "source": [
    "Total sales"
   ]
  },
  {
   "cell_type": "code",
   "execution_count": null,
   "id": "5b5b0b16",
   "metadata": {},
   "outputs": [],
   "source": [
    "print(np.sum(sales_data, axis=0))  # col wise sum of sales data\n",
    "print(np.sum(sales_data, axis=1))  # row wise sum of sales data\n",
    "print(\"yearly sales for all restaurants : \", np.sum(sales_data[:,1:], axis=0))\n",
    "\n",
    "print(\"\\n Minimum sales for all restaurants : \", np.min(sales_data[:,1:], axis=0)) # col wise min\n",
    "print(\"\\n Maximum sales for all restaurants : \", np.max(sales_data[:,1:], axis=0)) # col wise max\n",
    "print(\"\\n Average sales for all restaurants : \", np.mean(sales_data[:,1:], axis=0)) # col wise avg\n",
    "print(\"\\n Standard Deviation for all restaurants : \", np.std(sales_data[:,1:], axis=0)) # col wise std"
   ]
  },
  {
   "cell_type": "markdown",
   "id": "cd110a74",
   "metadata": {},
   "source": [
    "Cumulative sum"
   ]
  },
  {
   "cell_type": "code",
   "execution_count": null,
   "id": "cc92aca3",
   "metadata": {},
   "outputs": [],
   "source": [
    "cumsum = np.cumsum(sales_data[:,1:], axis=0)\n",
    "print(cumsum)"
   ]
  }
 ],
 "metadata": {
  "kernelspec": {
   "display_name": "myenv",
   "language": "python",
   "name": "python3"
  },
  "language_info": {
   "codemirror_mode": {
    "name": "ipython",
    "version": 3
   },
   "file_extension": ".py",
   "mimetype": "text/x-python",
   "name": "python",
   "nbconvert_exporter": "python",
   "pygments_lexer": "ipython3",
   "version": "3.12.3"
  }
 },
 "nbformat": 4,
 "nbformat_minor": 5
}
